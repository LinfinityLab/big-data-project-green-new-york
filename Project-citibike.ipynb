{
 "cells": [
  {
   "cell_type": "code",
   "execution_count": 213,
   "metadata": {
    "collapsed": true
   },
   "outputs": [],
   "source": [
    "import datetime\n",
    "import operator\n",
    "import os\n",
    "import sys\n",
    "import time\n",
    "import pyspark\n",
    "from operator import add\n",
    "from math import radians, cos, sin, asin, sqrt\n",
    "start = time.time()"
   ]
  },
  {
   "cell_type": "code",
   "execution_count": 214,
   "metadata": {
    "collapsed": true
   },
   "outputs": [],
   "source": [
    "def indexZones(shapeFilename):\n",
    "    import rtree\n",
    "    import fiona.crs\n",
    "    import geopandas as gpd\n",
    "    index = rtree.Rtree()\n",
    "    zones = gpd.read_file(shapeFilename).to_crs(fiona.crs.from_epsg(2263))\n",
    "    for idx,geometry in enumerate(zones.geometry):\n",
    "        index.insert(idx, geometry.bounds)\n",
    "    return (index, zones)\n",
    "\n",
    "def findN(p, index, zones):\n",
    "    match = index.intersection((p.x, p.y, p.x, p.y))\n",
    "    for idx in match:\n",
    "        if any(map(lambda x: x.contains(p), zones.geometry[idx])):\n",
    "            return zones['neighborhood'][idx]\n",
    "    return -1"
   ]
  },
  {
   "cell_type": "code",
   "execution_count": 215,
   "metadata": {
    "collapsed": true
   },
   "outputs": [],
   "source": [
    "def mapToZone(parts):\n",
    "    import pyproj\n",
    "    import shapely.geometry as geom\n",
    "    proj = pyproj.Proj(init=\"epsg:2263\", preserve_units=True)    \n",
    "    index, zones = indexZones('neighborhoods.geojson')\n",
    "    \n",
    "    for line in parts[1:]:\n",
    "        fields = line.strip('').split(',')\n",
    "        if fields ==['']: continue\n",
    "        if all((fields[5],fields[6],fields[9],fields[10])):\n",
    "            for i in [5,6,9,10]:\n",
    "                fields[i] = fields[i].strip('').split(\"\\\"\")[1]\n",
    "            pickup_location  = geom.Point(proj(float(fields[6]), float(fields[5])))\n",
    "            dropoff_location = geom.Point(proj(float(fields[10]), float(fields[9])))\n",
    "            pickup_zone = findN(pickup_location, index, zones)\n",
    "            dropoff_zone = findN(dropoff_location, index, zones)\n",
    "\n",
    "            if pickup_zone>=0 and dropoff_zone>=0:\n",
    "                yield ((dropoff_zone, pickup_zone), 1)"
   ]
  },
  {
   "cell_type": "code",
   "execution_count": 216,
   "metadata": {
    "collapsed": false
   },
   "outputs": [
    {
     "name": "stdout",
     "output_type": "stream",
     "text": [
      "[((u'Stuyvesant Town', u'Midtown'), 1), ((u'Chelsea', u'Chelsea'), 1), ((u'East Village', u'East Village'), 1), ((u'Upper West Side', u'Lower East Side'), 1), ((u'Lower East Side', u'Greenwich Village'), 1), ((u'Midtown', u'Stuyvesant Town'), 1), ((u'East Village', u'East Village'), 1), ((u'Financial District', u'Financial District'), 1), ((u'Greenwich Village', u'East Village'), 1), ((u\"Hell's Kitchen\", u'Theater District'), 1), ((u'Financial District', u'Tribeca'), 1), ((u'Lower East Side', u'Nolita'), 1), ((u'Theater District', u\"Hell's Kitchen\"), 1), ((u'Stuyvesant Town', u'Stuyvesant Town'), 1), ((u'Theater District', u\"Hell's Kitchen\"), 1), ((u'SoHo', u'Midtown'), 1), ((u'Midtown', u'Theater District'), 1), ((u\"Hell's Kitchen\", u'Chelsea'), 1), ((u'Chelsea', u'Chelsea'), 1), ((u'Midtown', u'Greenwich Village'), 1), ((u'East Village', u'Brooklyn Heights'), 1), ((u'Brooklyn Heights', u'Chelsea'), 1), ((u'Midtown', u'Upper West Side'), 1), ((u'Chelsea', u'Theater District'), 1), ((u'Midtown', u'Murray Hill'), 1), ((u'East Village', u'Nolita'), 1), ((u'West Village', u'Chelsea'), 1), ((u'Lower East Side', u'Lower East Side'), 1), ((u'East Village', u'Stuyvesant Town'), 1), ((u'Chelsea', u'Midtown'), 1), ((u'Stuyvesant Town', u'East Village'), 1), ((u'Lower East Side', u'East Village'), 1), ((u\"Hell's Kitchen\", u'West Village'), 1), ((u'East Village', u'East Village'), 1), ((u\"Hell's Kitchen\", u'Tribeca'), 1), ((u'East Village', u'East Village'), 1), ((u'Williamsburg', u'East Village'), 1), ((u'Tribeca', u'Greenwich Village'), 1), ((u'Tribeca', u'Greenwich Village'), 1), ((u'Stuyvesant Town', u'Williamsburg'), 1), ((u'SoHo', u'Greenwich Village'), 1), ((u'West Village', u'Nolita'), 1), ((u'East Village', u'West Village'), 1), ((u'Clinton Hill', u'Fort Greene'), 1), ((u'Greenwich Village', u'Gramercy'), 1), ((u'Lower East Side', u'Financial District'), 1), ((u'East Village', u'Lower East Side'), 1), ((u'Gramercy', u'Midtown'), 1), ((u'East Village', u'East Village'), 1), ((u'Tribeca', u'Greenwich Village'), 1), ((u'Brooklyn Heights', u'Chelsea'), 1), ((u'Navy Yard', u'Vinegar Hill'), 1), ((u'SoHo', u'Greenwich Village'), 1), ((u'Navy Yard', u'Vinegar Hill'), 1), ((u'East Village', u'Lower East Side'), 1), ((u'Theater District', u'Theater District'), 1), ((u'Chelsea', u'Kips Bay'), 1), ((u'East Village', u'West Village'), 1), ((u'East Village', u'East Village'), 1), ((u'Fort Greene', u'Fort Greene'), 1), ((u'SoHo', u'Nolita'), 1), ((u'Chelsea', u'Kips Bay'), 1), ((u'Kips Bay', u'Kips Bay'), 1), ((u\"Hell's Kitchen\", u\"Hell's Kitchen\"), 1), ((u'Kips Bay', u'Murray Hill'), 1), ((u'Midtown', u'Gramercy'), 1), ((u'Greenwich Village', u'Tribeca'), 1), ((u'Chelsea', u'Midtown'), 1), ((u'Clinton Hill', u'Park Slope'), 1), ((u'SoHo', u'Tribeca'), 1), ((u'East Village', u'Financial District'), 1), ((u'Chelsea', u'Stuyvesant Town'), 1), ((u'NoHo', u'Greenwich Village'), 1), ((u'Stuyvesant Town', u'Chelsea'), 1), ((u'East Village', u'East Village'), 1), ((u'Civic Center', u'Civic Center'), 1), ((u'East Village', u'Greenwich Village'), 1), ((u'Williamsburg', u'West Village'), 1), ((u'East Village', u'Chelsea'), 1), ((u\"Hell's Kitchen\", u'Midtown'), 1), ((u'Chelsea', u'West Village'), 1), ((u'East Village', u\"Hell's Kitchen\"), 1), ((u\"Hell's Kitchen\", u'Tribeca'), 1), ((u'Chelsea', u'Gramercy'), 1), ((u'Kips Bay', u'Midtown'), 1), ((u'Chelsea', u'Chelsea'), 1), ((u\"Hell's Kitchen\", u'Battery Park City'), 1), ((u\"Hell's Kitchen\", u'Midtown'), 1), ((u'Chelsea', u'East Village'), 1), ((u'Financial District', u'Financial District'), 1), ((u'Williamsburg', u'Bedford-Stuyvesant'), 1), ((u'Murray Hill', u'West Village'), 1), ((u'Chelsea', u'West Village'), 1), ((u'NoHo', u'Tribeca'), 1), ((u\"Hell's Kitchen\", u\"Hell's Kitchen\"), 1), ((u'Tribeca', u'West Village'), 1), ((u'Lower East Side', u'Theater District'), 1), ((u'Gramercy', u'East Village'), 1), ((u'Midtown', u'Murray Hill'), 1)]\n",
      "0.0356367826462\n"
     ]
    }
   ],
   "source": [
    "trips = sc.textFile('/home/satya/BDM_dataset/Citibike/Citibike.csv')\n",
    "#output = trips.mapPartitions(mapToZone)\n",
    "output = mapToZone(trips.take(100))\n",
    "output1 = sc.parallelize(output)\n",
    "print (time.time()-start)/60.0"
   ]
  }
 ],
 "metadata": {
  "kernelspec": {
   "display_name": "Python 2",
   "language": "python",
   "name": "python2"
  },
  "language_info": {
   "codemirror_mode": {
    "name": "ipython",
    "version": 2
   },
   "file_extension": ".py",
   "mimetype": "text/x-python",
   "name": "python",
   "nbconvert_exporter": "python",
   "pygments_lexer": "ipython2",
   "version": "2.7.11"
  }
 },
 "nbformat": 4,
 "nbformat_minor": 0
}
