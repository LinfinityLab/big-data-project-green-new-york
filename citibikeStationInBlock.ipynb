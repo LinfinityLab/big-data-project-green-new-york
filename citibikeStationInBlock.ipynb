{
 "cells": [
  {
   "cell_type": "code",
   "execution_count": 1,
   "metadata": {
    "collapsed": true
   },
   "outputs": [],
   "source": [
    "import json\n",
    "import datetime\n",
    "import operator\n",
    "import os\n",
    "import sys\n",
    "import time\n",
    "import pyspark\n",
    "from operator import add\n",
    "import numpy as np\n",
    "import matplotlib.path as mplPath\n",
    "\n",
    "import datetime\n",
    "import operator\n",
    "import os\n",
    "import sys\n",
    "import time\n",
    "import pyspark\n",
    "from operator import add\n",
    "import numpy as np\n",
    "import matplotlib.path as mplPath\n",
    "from math import radians, cos, sin, asin, sqrt\n",
    "start = time.time()"
   ]
  },
  {
   "cell_type": "code",
   "execution_count": 2,
   "metadata": {
    "collapsed": true
   },
   "outputs": [],
   "source": [
    "def indexZones(shapeFilename):\n",
    "    import rtree\n",
    "    import fiona.crs\n",
    "    import geopandas as gpd\n",
    "    index = rtree.Rtree()\n",
    "    zones = gpd.read_file(shapeFilename).to_crs(fiona.crs.from_epsg(2263))\n",
    "    for idx,geometry in enumerate(zones.geometry):\n",
    "        index.insert(idx, geometry.bounds)\n",
    "    return (index, zones)\n",
    "\n",
    "def findBlock(p, index, zones):\n",
    "    match = index.intersection((p.x, p.y, p.x, p.y))\n",
    "    for idx in match:\n",
    "        z = mplPath.Path(np.array(zones.geometry[idx].exterior))\n",
    "        \n",
    "        if z.contains_point(np.array(p)):\n",
    "            return zones['OBJECTID'][idx]\n",
    "    return -1"
   ]
  },
  {
   "cell_type": "code",
   "execution_count": 3,
   "metadata": {
    "collapsed": false
   },
   "outputs": [],
   "source": [
    "\n",
    "def mapToZone(parts):\n",
    "    import pyproj\n",
    "    import shapely.geometry as geom\n",
    "    proj = pyproj.Proj(init=\"epsg:2263\", preserve_units=True)    \n",
    "    index, zones = indexZones('block-groups-polygons-simple.geojson')\n",
    "    for line in parts[1:]:\n",
    "#         if line.startswith('vendor_id'): continue \n",
    "        fields = line.strip('').split(',')\n",
    "        if fields ==['']: continue\n",
    "        if all((fields[7],fields[8],fields[11],fields[12])):# and float(fields[4])<=2:\n",
    "#             passenger_count = int(fields[3])\n",
    "            start_location  = geom.Point(proj(float(fields[8]), float(fields[7])))\n",
    "            end_location = geom.Point(proj(float(fields[12]), float(fields[11])))\n",
    "            start_zone = findBlock(start_location, index, zones)\n",
    "            end_zone = findBlock(end_location, index, zones)\n",
    "            if start_zone>=0 and end_zone>=0:\n",
    "                yield ((end_zone,start_zone), 1)\n",
    "        \n",
    "def mapper2(k2v2):\n",
    "    from heapq import nlargest\n",
    "    k, values = k2v2\n",
    "    top3 = nlargest(3, values,key=lambda a: a[1])\n",
    "    return (k,top3)"
   ]
  },
  {
   "cell_type": "code",
   "execution_count": 4,
   "metadata": {
    "collapsed": false
   },
   "outputs": [
    {
     "name": "stdout",
     "output_type": "stream",
     "text": [
      "[(9436, 36), (9245, 36), (10136, 29), (10147, 28), (9545, 25), (9139, 25), (10177, 23), (9612, 22), (9144, 22), (9527, 22)]\n",
      "[(9245, 48), (9436, 45), (9545, 36), (9052, 31), (9144, 28), (9139, 27), (10177, 26), (9527, 25), (10164, 24), (10147, 24)]\n",
      "1.07844634851\n"
     ]
    }
   ],
   "source": [
    "stations = sc.textFile(\"datasets/citibike.csv\")\n",
    "# stations.take(10)\n",
    "# print stations.count()\n",
    "output = sc.parallelize(mapToZone(stations.take(2000)))\n",
    "output1 = output.map(lambda x: (x[0][1],x[1])).reduceByKey(lambda x,y: x+y).takeOrdered(10, lambda x: -x[1])\n",
    "output2 = output.map(lambda x: (x[0][0],x[1])).reduceByKey(lambda x,y: x+y).takeOrdered(10, lambda x: -x[1])\n",
    "# output3 = output.reduceByKey(add).map(lambda x: (x[0][0],(x[0][1],x[1]))).groupByKey().map(mapper2)\n",
    "print output1\n",
    "print output2\n",
    "print (time.time()-start)/60.0"
   ]
  },
  {
   "cell_type": "code",
   "execution_count": null,
   "metadata": {
    "collapsed": true
   },
   "outputs": [],
   "source": [
    "def mapToZone(stations):\n",
    "    import pyproj\n",
    "    import shapely.geometry as geom\n",
    "    proj = pyproj.Proj(init=\"epsg:2263\", preserve_units=True)    \n",
    "    index, zones = indexZones('block-groups-polygons.geojson')\n",
    "    for station in stations[1:]:\n",
    "        station = station.strip('').split(',')\n",
    "        location = geom.Point(proj(station[5], station[4]))\n",
    "        zone = findBlock(location, index, zones)\n",
    "        yield (station[1], zone)\n",
    "\n",
    "stations = sc.textFile(\"datasets/citibike_station.csv\")\n",
    "output = mapToZone(stations.collect())\n",
    "output1 = sc.parallelize(mapToZone(stations.take(200)))\n",
    "print list(output)"
   ]
  },
  {
   "cell_type": "code",
   "execution_count": null,
   "metadata": {
    "collapsed": true
   },
   "outputs": [],
   "source": []
  }
 ],
 "metadata": {
  "kernelspec": {
   "display_name": "Python 2",
   "language": "python",
   "name": "python2"
  },
  "language_info": {
   "codemirror_mode": {
    "name": "ipython",
    "version": 2
   },
   "file_extension": ".py",
   "mimetype": "text/x-python",
   "name": "python",
   "nbconvert_exporter": "python",
   "pygments_lexer": "ipython2",
   "version": "2.7.11"
  }
 },
 "nbformat": 4,
 "nbformat_minor": 0
}
