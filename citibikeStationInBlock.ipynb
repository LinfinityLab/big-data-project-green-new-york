{
 "cells": [
  {
   "cell_type": "code",
   "execution_count": 81,
   "metadata": {
    "collapsed": true
   },
   "outputs": [],
   "source": [
    "import json\n"
   ]
  },
  {
   "cell_type": "code",
   "execution_count": 82,
   "metadata": {
    "collapsed": true
   },
   "outputs": [],
   "source": [
    "def indexZones(shapeFilename):\n",
    "    import rtree\n",
    "    import fiona.crs\n",
    "    import geopandas as gpd\n",
    "    index = rtree.Rtree()\n",
    "    zones = gpd.read_file(shapeFilename).to_crs(fiona.crs.from_epsg(2263))\n",
    "    for idx,geometry in enumerate(zones.geometry):\n",
    "        index.insert(idx, geometry.bounds)\n",
    "    return (index, zones)\n",
    "\n",
    "# def findBlock(p, index, zones):\n",
    "#     match = index.intersection((p.x, p.y, p.x, p.y))\n",
    "#     for idx in match:\n",
    "#         if any(map(lambda x: x.contains(p), zones.geometry[idx])):\n",
    "#             return zones['OBJECTID'][idx]\n",
    "#     return -1\n",
    "def findBlock(p, index, zones):\n",
    "    match = index.intersection((p.x, p.y, p.x, p.y))\n",
    "    print list(match)\n",
    "    for idx in match:\n",
    "        print idx\n",
    "        #print type(zones.geometry[idx])\n",
    "        z = mplPath.Path(np.array(zones.geometry[idx].exterior))\n",
    "        \n",
    "        if z.contains_point(np.array(p)):\n",
    "            return zones['OBJECTID'][idx]\n",
    "    return -1"
   ]
  },
  {
   "cell_type": "code",
   "execution_count": 83,
   "metadata": {
    "collapsed": false
   },
   "outputs": [
    {
     "name": "stdout",
     "output_type": "stream",
     "text": [
      "<rtree.index.Index object at 0x113741910>\n",
      "[]\n",
      "[]\n",
      "[]\n",
      "[]\n",
      "[]\n",
      "[]\n",
      "[]\n",
      "[]\n",
      "[]\n"
     ]
    },
    {
     "data": {
      "text/plain": [
       "[(u'W 52 St & 11 Ave', -1),\n",
       " (u'Franklin St & W Broadway', -1),\n",
       " (u'St James Pl & Pearl St', -1),\n",
       " (u'Atlantic Ave & Fort Greene Pl', -1),\n",
       " (u'W 17 St & 8 Ave', -1),\n",
       " (u'Park Ave & St Edwards St', -1),\n",
       " (u'Lexington Ave & Classon Ave', -1),\n",
       " (u'Barrow St & Hudson St', -1),\n",
       " (u'MacDougal St & Prince St', -1)]"
      ]
     },
     "execution_count": 83,
     "metadata": {},
     "output_type": "execute_result"
    }
   ],
   "source": [
    "def mapToZone(stations):\n",
    "    import pyproj\n",
    "    import shapely.geometry as geom\n",
    "    proj = pyproj.Proj(init=\"epsg:2263\", preserve_units=True)    \n",
    "    index, zones = indexZones('block-groups-polygons.geojson')\n",
    "    print index\n",
    "    for station in stations[1:]:\n",
    "        station = station.strip('').split(',')\n",
    "        location = geom.Point(proj(station[4], station[5]))\n",
    "        zone = findBlock(location, index, zones)\n",
    "        yield (station[1], zone)\n",
    "\n",
    "# lines = sc.textFile('station.json')\n",
    "# data = lines.map(json.loads)\n",
    "#d = sc.parallelize(js_stations['stationBeanList']).flatMap(lambda x: x.items())\n",
    "\n",
    "\n",
    "# sc.parallelize(rdd.take(1))\n",
    "# sc.parallelize(mapToZone(rdd.map(json.loads).collect()))\n",
    "stations = sc.textFile(\"datasets/citibike_station.csv\")\n",
    "output = mapToZone(stations.take(10))\n",
    "list(output)\n"
   ]
  },
  {
   "cell_type": "code",
   "execution_count": null,
   "metadata": {
    "collapsed": true
   },
   "outputs": [],
   "source": []
  },
  {
   "cell_type": "code",
   "execution_count": null,
   "metadata": {
    "collapsed": true
   },
   "outputs": [],
   "source": []
  },
  {
   "cell_type": "code",
   "execution_count": null,
   "metadata": {
    "collapsed": true
   },
   "outputs": [],
   "source": []
  },
  {
   "cell_type": "code",
   "execution_count": null,
   "metadata": {
    "collapsed": true
   },
   "outputs": [],
   "source": []
  }
 ],
 "metadata": {
  "kernelspec": {
   "display_name": "Python 2",
   "language": "python",
   "name": "python2"
  },
  "language_info": {
   "codemirror_mode": {
    "name": "ipython",
    "version": 2
   },
   "file_extension": ".py",
   "mimetype": "text/x-python",
   "name": "python",
   "nbconvert_exporter": "python",
   "pygments_lexer": "ipython2",
   "version": "2.7.11"
  }
 },
 "nbformat": 4,
 "nbformat_minor": 0
}
