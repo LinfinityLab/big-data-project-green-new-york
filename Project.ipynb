{
 "cells": [
  {
   "cell_type": "code",
   "execution_count": 94,
   "metadata": {
    "collapsed": true
   },
   "outputs": [],
   "source": [
    "import datetime\n",
    "import operator\n",
    "import os\n",
    "import sys\n",
    "import time\n",
    "import pyspark\n",
    "from operator import add\n",
    "from math import radians, cos, sin, asin, sqrt\n",
    "start = time.time()"
   ]
  },
  {
   "cell_type": "code",
   "execution_count": 95,
   "metadata": {
    "collapsed": true
   },
   "outputs": [],
   "source": [
    "def haversine(lon1, lat1, lon2, lat2):\n",
    "    \"\"\"\n",
    "    Calculate the great circle distance between two points \n",
    "    on the earth (specified in decimal degrees)\n",
    "    \"\"\"\n",
    "    # convert decimal degrees to radians \n",
    "    lon1, lat1, lon2, lat2 = map(radians, [lon1, lat1, lon2, lat2])\n",
    "\n",
    "    # haversine formula \n",
    "    dlon = lon2 - lon1 \n",
    "    dlat = lat2 - lat1 \n",
    "    a = sin(dlat/2)**2 + cos(lat1) * cos(lat2) * sin(dlon/2)**2\n",
    "    c = 2 * asin(sqrt(a)) \n",
    "    r = 3956 # Radius of earth in miles. Use 6371 for kilometers\n",
    "    return c * r"
   ]
  },
  {
   "cell_type": "code",
   "execution_count": 96,
   "metadata": {
    "collapsed": true
   },
   "outputs": [],
   "source": [
    "def indexZones(shapeFilename):\n",
    "    import rtree\n",
    "    import fiona.crs\n",
    "    import geopandas as gpd\n",
    "    index = rtree.Rtree()\n",
    "    zones = gpd.read_file(shapeFilename).to_crs(fiona.crs.from_epsg(2263))\n",
    "    for idx,geometry in enumerate(zones.geometry):\n",
    "        index.insert(idx, geometry.bounds)\n",
    "    return (index, zones)\n",
    "def findN(p, index, zones):\n",
    "    match = index.intersection((p.x, p.y, p.x, p.y))\n",
    "    for idx in match:\n",
    "        if any(map(lambda x: x.contains(p), zones.geometry[idx])):\n",
    "            return zones['neighborhood'][idx]\n",
    "    return -1\n",
    "\n",
    "def findB(p, index, zones):\n",
    "    match = index.intersection((p.x, p.y, p.x, p.y))\n",
    "    for idx in match:\n",
    "        if any(map(lambda x: x.contains(p), zones.geometry[idx])):\n",
    "            return zones['borough'][idx]\n",
    "    return -1"
   ]
  },
  {
   "cell_type": "code",
   "execution_count": 97,
   "metadata": {
    "collapsed": false
   },
   "outputs": [],
   "source": [
    "def mapToZone(parts):\n",
    "    import pyproj\n",
    "    import shapely.geometry as geom\n",
    "    proj = pyproj.Proj(init=\"epsg:2263\", preserve_units=True)    \n",
    "    index, zones = indexZones('neighborhoods.geojson')\n",
    "    \n",
    "    for line in parts:\n",
    "        if line.startswith('vendor_id'): continue \n",
    "        fields = line.strip('').split(',')\n",
    "        if fields ==['']: continue\n",
    "        if all((fields[5],fields[6],fields[9],fields[10])):\n",
    "            if(haversine(float(fields[5]),float(fields[6]),float(fields[9]),float(fields[10]))<2.0):\n",
    "                passenger_count = int(fields[3])\n",
    "                pickup_location  = geom.Point(proj(float(fields[5]), float(fields[6])))\n",
    "                dropoff_location = geom.Point(proj(float(fields[9]), float(fields[10])))\n",
    "                pickup_zone = findN(pickup_location, index, zones)\n",
    "                dropoff_zone = findB(dropoff_location, index, zones)\n",
    "                if pickup_zone>=0 and dropoff_zone>=0:\n",
    "                    yield ((dropoff_zone, pickup_zone), 1)\n",
    "\n",
    "def mapper2(k2v2):\n",
    "    from heapq import nlargest\n",
    "    k, values = k2v2\n",
    "    top3 = nlargest(3, values,key=lambda a: a[1])\n",
    "    return (k,top3)"
   ]
  },
  {
   "cell_type": "code",
   "execution_count": 98,
   "metadata": {
    "collapsed": false
   },
   "outputs": [
    {
     "name": "stdout",
     "output_type": "stream",
     "text": [
      "[(u'Brooklyn', [(u'Fort Greene', 1), (u'Bensonhurst', 1), (u'Carroll Gardens', 1)]), (u'Manhattan', [(u'Midtown', 107), (u'Upper East Side', 75), (u'Chelsea', 55)]), (u'Queens', [(u'Maspeth', 1), (u'John F. Kennedy International Airport', 1), (u\"Randall's Island\", 1)])]\n",
      "0.0481600006421\n"
     ]
    }
   ],
   "source": [
    "trips = sc.textFile('/home/satya/BDM_dataset/yellow_tripdata_2011-05.csv')\n",
    "#output = trips.mapPartitions(mapToZone).reduceByKey(add).map(lambda x: (x[0][0],(x[0][1],x[1]))).groupByKey().map(mapper2)\n",
    "output = mapToZone(trips.take(1000))\n",
    "output = sc.parallelize(output).reduceByKey(add).map(lambda x: (x[0][0],(x[0][1],x[1]))).groupByKey().map(mapper2)\n",
    "print output.collect()\n",
    "print (time.time()-start)/60.0"
   ]
  }
 ],
 "metadata": {
  "kernelspec": {
   "display_name": "Python 2",
   "language": "python",
   "name": "python2"
  },
  "language_info": {
   "codemirror_mode": {
    "name": "ipython",
    "version": 2
   },
   "file_extension": ".py",
   "mimetype": "text/x-python",
   "name": "python",
   "nbconvert_exporter": "python",
   "pygments_lexer": "ipython2",
   "version": "2.7.11"
  }
 },
 "nbformat": 4,
 "nbformat_minor": 0
}
