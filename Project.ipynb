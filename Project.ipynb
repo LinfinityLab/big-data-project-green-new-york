{
 "cells": [
  {
   "cell_type": "code",
   "execution_count": 17,
   "metadata": {
    "collapsed": false
   },
   "outputs": [],
   "source": [
    "import datetime\n",
    "import operator\n",
    "import os\n",
    "import sys\n",
    "import time\n",
    "import pyspark\n",
    "from operator import add\n",
    "import numpy as np\n",
    "import matplotlib.path as mplPath\n",
    "from math import radians, cos, sin, asin, sqrt\n",
    "start = time.time()"
   ]
  },
  {
   "cell_type": "code",
   "execution_count": 18,
   "metadata": {
    "collapsed": false
   },
   "outputs": [],
   "source": [
    "def indexZones(shapeFilename):\n",
    "    import rtree\n",
    "    import fiona.crs\n",
    "    import geopandas as gpd\n",
    "    index = rtree.Rtree()\n",
    "    zones = gpd.read_file(shapeFilename).to_crs(fiona.crs.from_epsg(2263))\n",
    "    for idx,geometry in enumerate(zones.geometry):\n",
    "        index.insert(idx, geometry.bounds)\n",
    "    return (index, zones)\n",
    "\n",
    "def findBlock(p, index, zones):\n",
    "    match = index.intersection((p.x, p.y, p.x, p.y))\n",
    "    for idx in match:\n",
    "        #print type(zones.geometry[idx])\n",
    "        z = mplPath.Path(np.array(zones.geometry[idx].exterior))\n",
    "        if z.contains_point(np.array(p)):\n",
    "            return zones['OBJECTID'][idx]\n",
    "    return -1"
   ]
  },
  {
   "cell_type": "code",
   "execution_count": 19,
   "metadata": {
    "collapsed": false
   },
   "outputs": [],
   "source": [
    "def mapToZone(parts):\n",
    "    import pyproj\n",
    "    import shapely.geometry as geom\n",
    "    proj = pyproj.Proj(init=\"epsg:2263\", preserve_units=True)    \n",
    "    index, zones = indexZones('block-groups-polygons-simple.geojson')\n",
    "    for line in parts:\n",
    "        if line.startswith('vendor_id'): continue \n",
    "        fields = line.strip('').split(',')\n",
    "        if fields ==['']: continue\n",
    "        if all((fields[5],fields[6],fields[9],fields[10])) and float(fields[4])<=2:\n",
    "            passenger_count = int(fields[3])\n",
    "            pickup_location  = geom.Point(proj(float(fields[5]), float(fields[6])))\n",
    "            dropoff_location = geom.Point(proj(float(fields[9]), float(fields[10])))\n",
    "            pickup_zone = findBlock(pickup_location, index, zones)\n",
    "            dropoff_zone = findBlock(dropoff_location, index, zones)\n",
    "            if pickup_zone>=0 and dropoff_zone>=0:\n",
    "                yield ((dropoff_zone,pickup_zone), 1)\n",
    "\n",
    "def mapper2(k2v2):\n",
    "    from heapq import nlargest\n",
    "    k, values = k2v2\n",
    "    top3 = nlargest(3, values,key=lambda a: a[1])\n",
    "    return (k,top3)"
   ]
  },
  {
   "cell_type": "code",
   "execution_count": 20,
   "metadata": {
    "collapsed": false,
    "scrolled": true
   },
   "outputs": [
    {
     "name": "stdout",
     "output_type": "stream",
     "text": [
      "[(9245, 18), (8986, 15), (9144, 13), (9493, 13), (9509, 13), (9088, 11), (9365, 11), (9394, 10), (9052, 10), (9085, 10)]\n",
      "[(9144, 26), (9245, 22), (9052, 15), (8986, 13), (9493, 12), (9610, 10), (9023, 10), (9594, 9), (9620, 8), (9509, 8)]\n",
      "0.162078515689\n"
     ]
    }
   ],
   "source": [
    "trips = sc.textFile('/home/satya/BDM_dataset/yellow_tripdata_2011-05.csv')\n",
    "#output = trips.mapPartitions(mapToZone).reduceByKey(add).map(lambda x: (x[0][0],(x[0][1],x[1]))).groupByKey().map(mapper2)\n",
    "output = sc.parallelize(mapToZone(trips.take(2000)))\n",
    "output1 = output.map(lambda x: (x[0][1],x[1])).reduceByKey(lambda x,y: x+y).takeOrdered(10, lambda x: -x[1])\n",
    "output2 = output.map(lambda x: (x[0][0],x[1])).reduceByKey(lambda x,y: x+y).takeOrdered(10, lambda x: -x[1])\n",
    "#output = sc.parallelize(output).reduceByKey(add).map(lambda x: (x[0][0],(x[0][1],x[1]))).groupByKey().map(mapper2)\n",
    "print output1\n",
    "print output2\n",
    "print (time.time()-start)/60.0"
   ]
  }
 ],
 "metadata": {
  "kernelspec": {
   "display_name": "Python 2",
   "language": "python",
   "name": "python2"
  },
  "language_info": {
   "codemirror_mode": {
    "name": "ipython",
    "version": 2
   },
   "file_extension": ".py",
   "mimetype": "text/x-python",
   "name": "python",
   "nbconvert_exporter": "python",
   "pygments_lexer": "ipython2",
   "version": "2.7.11"
  }
 },
 "nbformat": 4,
 "nbformat_minor": 0
}
