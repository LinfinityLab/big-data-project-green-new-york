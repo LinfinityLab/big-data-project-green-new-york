{
 "cells": [
  {
   "cell_type": "code",
   "execution_count": 119,
   "metadata": {
    "collapsed": false
   },
   "outputs": [],
   "source": [
    "import datetime\n",
    "import operator\n",
    "import os\n",
    "import sys\n",
    "import time\n",
    "import pyspark\n",
    "from operator import add\n",
    "import numpy as np\n",
    "import matplotlib.path as mplPath"
   ]
  },
  {
   "cell_type": "code",
   "execution_count": 120,
   "metadata": {
    "collapsed": false
   },
   "outputs": [],
   "source": [
    "def create_geojson(filename,data):\n",
    "    import json\n",
    "    coordinatesList = {}\n",
    "    with open ('block-groups-polygons.geojson') as dataFile:\n",
    "        blockData = json.load(dataFile)\n",
    "    count = 0\n",
    "    for i in data:\n",
    "        for block in blockData['features']:\n",
    "            if i == block['properties']['OBJECTID']:\n",
    "                coordinatesList[count] = [block['geometry'],block['properties']]\n",
    "                count+=1\n",
    "\n",
    "    template = \\\n",
    "        ''' \\\n",
    "        { \"type\" : \"Feature\",\n",
    "            \"id\" : %s,\n",
    "            \"properties\" : %s,\n",
    "            \"geometry\" : %s\n",
    "            },\n",
    "        '''\n",
    "\n",
    "    # the head of the geojson file\n",
    "    output = \\\n",
    "        ''' \\\n",
    "    { \"type\" : \"FeatureCollection\",\n",
    "        \"features\" : [\n",
    "        '''\n",
    "\n",
    "    for k,v in coordinatesList.iteritems():\n",
    "        output += template % (k,json.dumps(v[1]),json.dumps(v[0]))\n",
    "\n",
    "    # the tail of the geojson file\n",
    "    output += \\\n",
    "        ''' \\\n",
    "        ]\n",
    "    }\n",
    "        '''\n",
    "\n",
    "    # opens an geoJSON file to write the output to\n",
    "    outFileHandle = open(filename+\".geojson\", \"w\")\n",
    "    outFileHandle.write(output)\n",
    "    outFileHandle.close()"
   ]
  },
  {
   "cell_type": "code",
   "execution_count": 121,
   "metadata": {
    "collapsed": false
   },
   "outputs": [],
   "source": [
    "def indexZones(shapeFilename):\n",
    "    import rtree\n",
    "    import fiona.crs\n",
    "    import geopandas as gpd\n",
    "    index = rtree.Rtree()\n",
    "    zones = gpd.read_file(shapeFilename).to_crs(fiona.crs.from_epsg(2263))\n",
    "    for idx,geometry in enumerate(zones.geometry):\n",
    "        index.insert(idx, geometry.bounds)\n",
    "    return (index, zones)\n",
    "\n",
    "def findBlock(p, index, zones):\n",
    "    match = index.intersection((p.x, p.y, p.x, p.y))\n",
    "    for idx in match:\n",
    "        z = mplPath.Path(np.array(zones.geometry[idx].exterior))\n",
    "        if z.contains_point(np.array(p)):\n",
    "            return zones['OBJECTID'][idx]\n",
    "    return -1\n",
    "\n",
    "def findB(p, index, zones):\n",
    "    match = index.intersection((p.x, p.y, p.x, p.y))\n",
    "    for idx in match:\n",
    "        if any(map(lambda x: x.contains(p), zones.geometry[idx])):\n",
    "            return zones['boroname'][idx]\n",
    "    return -1"
   ]
  },
  {
   "cell_type": "code",
   "execution_count": 122,
   "metadata": {
    "collapsed": false
   },
   "outputs": [],
   "source": [
    "def pick_mapToZone(parts):\n",
    "    import pyproj\n",
    "    import shapely.geometry as geom\n",
    "    proj = pyproj.Proj(init=\"epsg:2263\", preserve_units=True)    \n",
    "    index, zones = indexZones('block-groups-polygons-simple.geojson')\n",
    "    index2, zones2 = indexZones('boroughs.geojson')\n",
    "    for line in parts:\n",
    "        if line.startswith('vendor_id'): continue \n",
    "        fields = line.strip('').split(',')\n",
    "        if fields ==['']: continue\n",
    "        if all((fields[5],fields[6],fields[9],fields[10])):# and float(fields[4])<=2:\n",
    "            pickup_location  = geom.Point(proj(float(fields[5]), float(fields[6])))\n",
    "            pickup_block = findBlock(pickup_location, index, zones)\n",
    "            pickup_borough = findB(pickup_location, index2, zones2)\n",
    "            if pickup_block>=0 and pickup_borough>0 :#np.array(pickup_block.exterior)\n",
    "                yield (pickup_block,pickup_borough)"
   ]
  },
  {
   "cell_type": "code",
   "execution_count": 123,
   "metadata": {
    "collapsed": true
   },
   "outputs": [],
   "source": [
    "def drop_mapToZone(parts):\n",
    "    import pyproj\n",
    "    import shapely.geometry as geom\n",
    "    proj = pyproj.Proj(init=\"epsg:2263\", preserve_units=True)    \n",
    "    index, zones = indexZones('block-groups-polygons-simple.geojson')\n",
    "    index2, zones2 = indexZones('boroughs.geojson')\n",
    "    for line in parts:\n",
    "        if line.startswith('vendor_id'): continue \n",
    "        fields = line.strip('').split(',')\n",
    "        if fields ==['']: continue\n",
    "        if all((fields[5],fields[6],fields[9],fields[10])) and float(fields[4])<=2:\n",
    "            drop_location  = geom.Point(proj(float(fields[9]), float(fields[10])))\n",
    "            drop_block = findBlock(drop_location, index, zones)\n",
    "            drop_borough = findB(drop_location, index2, zones2)\n",
    "            if drop_block>=0 and drop_borough>0 :\n",
    "                yield (drop_block,drop_borough)"
   ]
  },
  {
   "cell_type": "code",
   "execution_count": 124,
   "metadata": {
    "collapsed": false
   },
   "outputs": [
    {
     "name": "stdout",
     "output_type": "stream",
     "text": [
      "[(9728, 2), (3584, 1), (9218, 2), (9220, 1), (10070, 1), (2566, 1), (2568, 1), (9900, 4), (12812, 1), (9748, 1), (10158, 1), (9240, 1), (9732, 1), (9514, 2), (9050, 1), (9248, 3), (9136, 1), (9252, 1), (9222, 2), (9768, 3), (9564, 4), (9770, 2), (9260, 2), (11822, 1), (9736, 3), (9266, 3), (12856, 1), (9276, 1), (9790, 1), (9284, 2), (9740, 2), (10168, 1), (12882, 1), (9814, 2), (9304, 1), (9146, 2), (9090, 1), (2320, 1), (9832, 2), (9660, 4), (9842, 3), (9844, 1), (9336, 1), (9340, 1), (9066, 2), (9854, 1), (9152, 1), (9346, 2), (3718, 1), (9578, 1), (9580, 2), (3722, 20), (9410, 1), (9552, 1), (9496, 7), (9484, 2), (9368, 1), (8986, 9), (9384, 2), (8988, 2), (9898, 2), (9388, 4), (9586, 5), (9394, 8), (9502, 1), (9076, 1), (9408, 1), (9922, 1), (9078, 1), (9424, 1), (9426, 3), (9428, 1), (9434, 1), (9436, 5), (9594, 6), (3294, 1), (9440, 2), (9640, 1), (10022, 2), (9452, 2), (9598, 2), (9684, 1), (12330, 1), (9470, 2), (9658, 1), (9474, 1), (10028, 2), (12042, 1), (12044, 1), (12930, 1), (9486, 3), (10170, 2), (9488, 1), (9490, 1), (9006, 4), (13078, 1), (8984, 1), (9092, 1), (9498, 1), (9500, 1), (8990, 2), (8992, 3), (9506, 1), (8996, 3), (9862, 1), (8998, 3), (9000, 1), (10026, 7), (9004, 1), (9518, 2), (9096, 4), (9012, 2), (9438, 1), (9526, 3), (10040, 4), (10036, 2), (9530, 3), (9098, 3), (9022, 3), (9024, 2), (9538, 3), (9540, 1), (9014, 2), (9034, 1), (9036, 4), (9550, 1), (9040, 3), (9016, 1), (9554, 1), (2388, 1), (9558, 3), (9560, 3), (10074, 2), (9052, 9), (2874, 1), (9568, 1), (9360, 1), (9058, 4), (9702, 2), (9576, 2), (10090, 1), (9068, 1), (9618, 1), (10094, 1), (9584, 1), (9704, 7), (9074, 2), (9588, 1), (9534, 6), (9590, 2), (9082, 4), (9596, 4), (9086, 4), (9088, 8), (9536, 1), (9602, 1), (12164, 1), (9606, 2), (9608, 7), (9708, 3), (9610, 3), (9612, 4), (9614, 1), (10128, 2), (10130, 1), (10038, 1), (9620, 9), (10134, 1), (10136, 3), (9114, 4), (9626, 1), (9118, 1), (9200, 2), (10146, 1), (9510, 1), (9124, 2), (10150, 1), (10152, 3), (9642, 2), (10156, 1), (9134, 2), (9648, 1), (9650, 2), (10164, 5), (9144, 10), (12730, 2), (9148, 1), (9662, 3), (11712, 1), (9154, 2), (10176, 1), (10182, 1), (10184, 3), (9548, 1), (10186, 5), (9122, 2), (9678, 1), (9208, 6), (10194, 1), (10196, 1), (9686, 1), (9690, 1), (9210, 1), (9696, 1), (10064, 5), (9700, 1), (9190, 3), (9192, 7), (10092, 2), (9194, 4), (9018, 2), (9196, 1), (9198, 4), (9712, 1), (9896, 2), (9204, 1), (9718, 1), (9720, 6), (9556, 2), (9722, 2), (9214, 1), (2049, 1), (9731, 1), (9559, 1), (9229, 1), (9231, 1), (9475, 1), (9239, 2), (10159, 1), (9245, 16), (9759, 1), (9251, 2), (9253, 2), (9137, 1), (9257, 2), (9771, 2), (9261, 2), (9583, 2), (9269, 1), (10079, 1), (9389, 1), (9793, 1), (9283, 1), (9801, 1), (9715, 1), (9143, 3), (12755, 1), (9807, 1), (9925, 1), (9571, 2), (2169, 1), (9159, 1), (9743, 1), (9821, 1), (3169, 1), (9827, 1), (9005, 1), (9321, 1), (10087, 1), (9661, 1), (9843, 2), (9845, 1), (9149, 1), (9065, 7), (9337, 2), (9663, 1), (10063, 1), (3431, 1), (9153, 1), (9751, 1), (9581, 2), (9155, 2), (9365, 8), (10183, 1), (9109, 1), (9369, 1), (9327, 1), (9373, 1), (9763, 2), (9377, 1), (9331, 1), (9895, 1), (9621, 1), (9899, 1), (9901, 1), (10013, 1), (9877, 2), (9905, 1), (9395, 5), (9397, 4), (9399, 1), (9247, 1), (9673, 1), (11461, 1), (9419, 1), (9421, 2), (9423, 2), (9425, 2), (9427, 5), (9003, 5), (3287, 1), (10117, 1), (9435, 2), (3293, 1), (9439, 4), (9441, 1), (9851, 3), (9623, 2), (9681, 1), (2281, 14), (8999, 2), (9443, 1), (12157, 1), (9683, 1), (9461, 1), (9465, 1), (9087, 4), (9351, 2), (9471, 1), (9473, 1), (3843, 1), (9477, 1), (10113, 4), (12041, 1), (9999, 2), (9603, 1), (9493, 12), (9689, 1), (9499, 3), (8989, 3), (8991, 4), (9505, 1), (9591, 5), (9509, 12), (9511, 6), (9513, 2), (10089, 1), (10027, 5), (9517, 3), (10031, 3), (9097, 1), (10033, 1), (9011, 3), (10037, 1), (10069, 4), (9527, 1), (9529, 1), (9695, 1), (9023, 5), (9541, 2), (3297, 1), (9545, 1), (9035, 1), (9641, 1), (9549, 6), (9101, 5), (10065, 3), (9555, 1), (9013, 3), (10071, 5), (9561, 2), (9051, 3), (10077, 4), (9055, 2), (9569, 3), (9275, 1), (9061, 1), (9575, 2), (9577, 1), (9069, 1), (9071, 1), (9747, 1), (9585, 3), (9587, 1), (8997, 1), (9079, 1), (9593, 7), (9595, 5), (9519, 1), (9085, 7), (9599, 8), (9601, 1), (9451, 1), (9605, 1), (9095, 1), (9609, 6), (9099, 2), (9613, 2), (9049, 1), (9615, 4), (9107, 1), (10133, 1), (9111, 2), (9625, 2), (9115, 1), (9119, 1), (9635, 1), (10149, 2), (10151, 2), (10153, 2), (9131, 1), (9645, 1), (9135, 1), (9649, 1), (9139, 5), (10167, 1), (12281, 1), (10169, 1), (9147, 7), (10173, 1), (10175, 3), (10177, 2), (9547, 3), (9671, 1), (10185, 3), (10187, 2), (9037, 1), (10023, 1), (10147, 1), (10197, 1), (9175, 1), (9177, 2), (9039, 4), (9693, 1), (9125, 3), (9703, 5), (12547, 1), (9193, 4), (10075, 1), (9709, 1), (9713, 4), (10021, 1), (9393, 1), (9207, 1), (9721, 1), (9215, 1), (9725, 1), (10195, 1), (9045, 2)]\n"
     ]
    }
   ],
   "source": [
    "# if __name__=='__main__':\n",
    "#     if len(sys.argv)<3:\n",
    "#         print \"Usage: <input files> <output path>\"\n",
    "#         sys.exit(-1)\n",
    "\n",
    "#sc = pyspark.SparkContext()\n",
    "#     trips = sc.textFile(','.join(sys.argv[1:-1]))\n",
    "trips = sc.textFile('/home/satya/BDM_dataset/yellow_tripdata_2011-05.csv')\n",
    "\n",
    "pickup = sc.parallelize(pick_mapToZone(trips.take(1000)))\n",
    "pickup = pickup.map(lambda x: (x,1)).reduceByKey(lambda x,y: x+y)\n",
    "pickup_M = pickup.filter(lambda x: x[0][1] == \"Manhattan\").takeOrdered(10, lambda x: -x[1])\n",
    "pickup_Q = pickup.filter(lambda x: x[0][1] == \"Queens\").takeOrdered(10, lambda x: -x[1])\n",
    "pickup_Bx = pickup.filter(lambda x: x[0][1] == \"Bronx\").takeOrdered(10, lambda x: -x[1])\n",
    "pickup_Bk = pickup.filter(lambda x: x[0][1] == \"Brooklyn\").takeOrdered(10, lambda x: -x[1])\n",
    "pickup_SI = pickup.filter(lambda x: x[0][1] == \"Staten Island\").takeOrdered(10, lambda x: -x[1])\n",
    "pickup_all = sc.parallelize(pickup_M+pickup_Q+pickup_Bx+pickup_Bk+pickup_SI)\n",
    "\n",
    "dropoff = sc.parallelize(drop_mapToZone(trips.take(1000)))\n",
    "dropoff = pickup.map(lambda x: (x,1)).reduceByKey(lambda x,y: x+y)\n",
    "dropoff_M = dropoff.filter(lambda x: x[0][1] == \"Manhattan\").takeOrdered(10, lambda x: -x[1])\n",
    "dropoff_Q = dropoff.filter(lambda x: x[0][1] == \"Queens\").takeOrdered(10, lambda x: -x[1])\n",
    "dropoff_Bx = dropoff.filter(lambda x: x[0][1] == \"Bronx\").takeOrdered(10, lambda x: -x[1])\n",
    "dropoff_Bk = dropoff.filter(lambda x: x[0][1] == \"Brooklyn\").takeOrdered(10, lambda x: -x[1])\n",
    "dropoff_SI = dropoff.filter(lambda x: x[0][1] == \"Staten Island\").takeOrdered(10, lambda x: -x[1])\n",
    "dropoff_all = sc.parallelize(dropoff_M+dropoff_Q+dropoff_Bx+dropoff_Bk+dropoff_SI)\n",
    "#print final.collect()\n",
    "#final.saveAsTextFile(sys.argv[-1])"
   ]
  },
  {
   "cell_type": "code",
   "execution_count": 125,
   "metadata": {
    "collapsed": true
   },
   "outputs": [],
   "source": [
    "create_geojson(\"pickup_map\",pickup_all.map(lambda x: x[0][0]).collect())\n",
    "create_geojson(\"dropoff_map\",pickup_all.map(lambda x: x[0][0]).collect())"
   ]
  },
  {
   "cell_type": "code",
   "execution_count": null,
   "metadata": {
    "collapsed": false
   },
   "outputs": [],
   "source": []
  }
 ],
 "metadata": {
  "kernelspec": {
   "display_name": "Python 2",
   "language": "python",
   "name": "python2"
  },
  "language_info": {
   "codemirror_mode": {
    "name": "ipython",
    "version": 2
   },
   "file_extension": ".py",
   "mimetype": "text/x-python",
   "name": "python",
   "nbconvert_exporter": "python",
   "pygments_lexer": "ipython2",
   "version": "2.7.11"
  }
 },
 "nbformat": 4,
 "nbformat_minor": 0
}
